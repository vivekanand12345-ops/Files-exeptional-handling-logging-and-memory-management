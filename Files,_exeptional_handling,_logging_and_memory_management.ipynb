{
  "nbformat": 4,
  "nbformat_minor": 0,
  "metadata": {
    "colab": {
      "provenance": []
    },
    "kernelspec": {
      "name": "python3",
      "display_name": "Python 3"
    },
    "language_info": {
      "name": "python"
    }
  },
  "cells": [
    {
      "cell_type": "markdown",
      "source": [
        "#Files, exceptional handling, logging and memory management Questions"
      ],
      "metadata": {
        "id": "sNG-s2_n9GD_"
      }
    },
    {
      "cell_type": "markdown",
      "source": [
        "1. What is the difference between interpreted and compiled languages ?\n",
        "\n",
        " Ans. Interpreted languages run line by line (like Python), while compiled languages are converted into machine code before running (like C++).\n",
        "\n",
        "\n",
        "2. What is exception handling in Python ?\n",
        "\n",
        " Ans. It's a way to handle errors using try, except, else, and finally.\n",
        "\n",
        "\n",
        "3. What is the purpose of the finally block in exception handling ?\n",
        "\n",
        " Ans. It runs no matter what, used to clean up actions like closing files.\n",
        "\n",
        "\n",
        "4. What is logging python ?\n",
        "\n",
        " Ans. It helps record messages about a program’s execution, useful for debugging.\n",
        "\n",
        "\n",
        "5. What is the significance of the __del__ method in Python ?\n",
        "\n",
        " Ans. A destructor method, called when an object is about to be deleted.\n",
        "\n",
        "\n",
        "6. What is the difference between import and from ... import in Python?\n",
        "\n",
        "Ans. Import brings in the whole module; from ... import brings specific parts.\n",
        "\n",
        "\n",
        "7. How can you handle multiple exceptions in Python?\n",
        "\n",
        " Ans. Use multiple except blocks or combine exceptions in a tuple.\n",
        "\n",
        "\n",
        "8. What is the purpose of the with statement when handling files in Python ?\n",
        "\n",
        " Ans. It simplifies file handling and automatically closes files.\n",
        "\n",
        "\n",
        "9. What is the difference between multithreading and multiprocessing ?\n",
        "\n",
        " Ans. Threads run in the same memory space; processes run in separate memory spaces.\n",
        "\n",
        "\n",
        "10. What are the advantages of using logging in a program ?\n",
        "\n",
        " Ans. Helps monitor program behavior and find bugs.\n",
        "\n",
        "\n",
        "11. What is memory management in Python ?\n",
        "\n",
        " Ans. It’s how Python allocates and clears memory during program execution.\n",
        "\n",
        "\n",
        "12. What are the basic steps involved in exception handling in Python ?\n",
        "\n",
        " Ans. Use try, catch errors in except, optionally use else and finally.\n",
        "\n",
        "\n",
        "13. Why is memory management important in Python ?\n",
        "\n",
        " Ans.It helps avoid memory leaks and keeps programs efficient.\n",
        "\n",
        "\n",
        "14. What is the role of try and except in exception handling ?\n",
        "\n",
        " Ans. Try runs code that may fail, except handles the failure.\n",
        "\n",
        "\n",
        "15. How does Python's garbage collection system work ?\n",
        "\n",
        " Ans.Python automatically deletes unused objects to free memory.\n",
        "\n",
        "\n",
        "16. What is the purpose of the else block in exception handling ?\n",
        "\n",
        " Ans. Runs if the try block succeeds without errors.\n",
        "\n",
        "\n",
        "17. What are the common logging levels in Python ?\n",
        "\n",
        " Ans. DEBUG, INFO, WARNING, ERROR, CRITICAL.\n",
        "\n",
        "\n",
        "18. What is the difference between os.fork() and multiprocessing in Python ?\n",
        "\n",
        " Ans. Os.fork() is Unix-only and low-level; multiprocessing is cross-platform and simpler.\n",
        "\n",
        "\n",
        "19. What is the importance of closing a file in Python ?\n",
        "\n",
        " Ans. It saves changes and frees system resources.\n",
        "\n",
        "\n",
        "20. What is the difference between file.read() and file.readline() in Python ?\n",
        "\n",
        " Ans. Read() gets the whole file; readline() gets one line.\n",
        "\n",
        "\n",
        "21. What is the logging module in Python used for ?\n",
        "\n",
        " Ans. It lets you record messages and errors to console or file.\n",
        "\n",
        "\n",
        "22. What is the os module in Python used for in file handling ?\n",
        "\n",
        " Ans. It helps interact with the file system (paths, files, directories).\n",
        "\n",
        "\n",
        "23. What are the challenges associated with memory management in Python ?\n",
        "\n",
        " Ans. Includes memory leaks, fragmentation, and performance issues.\n",
        "\n",
        "\n",
        "24. How do you raise an exception manually in Python ?\n",
        "\n",
        " Ans. Use the raise keyword, e.g., raise ValueError(\"error message\").\n",
        "\n",
        "\n",
        "25. Why is it important to use multithreading in certain applications ?\n",
        "\n",
        " Ans. It improves performance in tasks like downloading, I/O operations, etc."
      ],
      "metadata": {
        "id": "f6wfrk_11utW"
      }
    },
    {
      "cell_type": "markdown",
      "source": [
        "#Prectical questions."
      ],
      "metadata": {
        "id": "3Dr1x6Hb9Tg5"
      }
    },
    {
      "cell_type": "markdown",
      "source": [
        "1. How can you open a file for writing in Python and write a string to it?"
      ],
      "metadata": {
        "id": "AoGTOemc9ZTJ"
      }
    },
    {
      "cell_type": "code",
      "source": [
        "with open(\"sample.txt\", \"w\") as file:\n",
        "    file.write(\"Hello, this is a string written to a file using Python.\")"
      ],
      "metadata": {
        "id": "nHL1KUtWBKFI"
      },
      "execution_count": 1,
      "outputs": []
    },
    {
      "cell_type": "markdown",
      "source": [
        "2. Write a Python program to read the contents of a file and print each line."
      ],
      "metadata": {
        "id": "IhMqt1WXBN9O"
      }
    },
    {
      "cell_type": "code",
      "source": [
        "with open(\"sample.txt\", \"r\") as file:\n",
        "    for line in file:\n",
        "        print(line.strip())"
      ],
      "metadata": {
        "colab": {
          "base_uri": "https://localhost:8080/"
        },
        "id": "EfRWGCh_BSPr",
        "outputId": "1bde4c7c-7270-4fde-b551-c91218e35f34"
      },
      "execution_count": 2,
      "outputs": [
        {
          "output_type": "stream",
          "name": "stdout",
          "text": [
            "Hello, this is a string written to a file using Python.\n"
          ]
        }
      ]
    },
    {
      "cell_type": "markdown",
      "source": [
        "3. How would you handle a case where the file doesn't exist while trying to open it for reading."
      ],
      "metadata": {
        "id": "7I5R3cqyBWCC"
      }
    },
    {
      "cell_type": "code",
      "source": [
        "try:\n",
        "    with open(\"nonexistent.txt\", \"r\") as file:\n",
        "        content = file.read()\n",
        "        print(content)\n",
        "except FileNotFoundError:\n",
        "    print(\"The file you are trying to read does not exist.\")"
      ],
      "metadata": {
        "colab": {
          "base_uri": "https://localhost:8080/"
        },
        "id": "FHIEgm-zBZ2Y",
        "outputId": "f5e5f528-4704-4fd5-d705-64d42ae41c0f"
      },
      "execution_count": 3,
      "outputs": [
        {
          "output_type": "stream",
          "name": "stdout",
          "text": [
            "The file you are trying to read does not exist.\n"
          ]
        }
      ]
    },
    {
      "cell_type": "markdown",
      "source": [
        "4. Write a Python script that reads from one file and writes its content to another file."
      ],
      "metadata": {
        "id": "9UyqRfvnBdv3"
      }
    },
    {
      "cell_type": "code",
      "source": [
        "with open(\"source.txt\", \"r\") as source_file:\n",
        "    data = source_file.read()\n",
        "\n",
        "with open(\"destination.txt\", \"w\") as destination_file:\n",
        "    destination_file.write(data)"
      ],
      "metadata": {
        "id": "rZCZUr0wB3SQ"
      },
      "execution_count": null,
      "outputs": []
    },
    {
      "cell_type": "markdown",
      "source": [
        "5. How would you catch and handle division by zero error in Python?"
      ],
      "metadata": {
        "id": "V8cNm2VYB6Fw"
      }
    },
    {
      "cell_type": "code",
      "source": [
        "try:\n",
        "    result = 10 / 0\n",
        "except ZeroDivisionError:\n",
        "    print(\"Division by zero is not allowed.\")"
      ],
      "metadata": {
        "colab": {
          "base_uri": "https://localhost:8080/"
        },
        "id": "UlE-7EGcB_Ws",
        "outputId": "05c33de1-ea4c-416a-b1bf-1598d34b7d76"
      },
      "execution_count": 5,
      "outputs": [
        {
          "output_type": "stream",
          "name": "stdout",
          "text": [
            "Division by zero is not allowed.\n"
          ]
        }
      ]
    },
    {
      "cell_type": "markdown",
      "source": [
        "6. Write a Python program that logs an error message to a log file when a division by zero exception occurs."
      ],
      "metadata": {
        "id": "hjSzIMA2B_vK"
      }
    },
    {
      "cell_type": "code",
      "source": [
        "import logging\n",
        "\n",
        "logging.basicConfig(filename=\"error.log\", level=logging.ERROR)\n",
        "\n",
        "try:\n",
        "    x = 5 / 0\n",
        "except ZeroDivisionError as e:\n",
        "    logging.error(\"Division by zero error occurred: %s\", e)"
      ],
      "metadata": {
        "colab": {
          "base_uri": "https://localhost:8080/"
        },
        "id": "dvWFfFwyCCbt",
        "outputId": "b698fee1-8a65-40c1-ab43-48e69b0a06ee"
      },
      "execution_count": 6,
      "outputs": [
        {
          "output_type": "stream",
          "name": "stderr",
          "text": [
            "ERROR:root:Division by zero error occurred: division by zero\n"
          ]
        }
      ]
    },
    {
      "cell_type": "markdown",
      "source": [
        "7. How do you log information at different levels (INFO, ERROR, WARNING) in Python using the logging module?"
      ],
      "metadata": {
        "id": "JpuwqzdnCCyf"
      }
    },
    {
      "cell_type": "code",
      "source": [
        "import logging\n",
        "\n",
        "logging.basicConfig(level=logging.DEBUG)\n",
        "\n",
        "logging.info(\"This is an informational message.\")\n",
        "logging.warning(\"This is a warning message.\")\n",
        "logging.error(\"This is an error message.\")"
      ],
      "metadata": {
        "colab": {
          "base_uri": "https://localhost:8080/"
        },
        "id": "aH7FwaX0CFha",
        "outputId": "20626ce9-04d3-4aa4-b642-63e1b0cc11ea"
      },
      "execution_count": 7,
      "outputs": [
        {
          "output_type": "stream",
          "name": "stderr",
          "text": [
            "WARNING:root:This is a warning message.\n",
            "ERROR:root:This is an error message.\n"
          ]
        }
      ]
    },
    {
      "cell_type": "markdown",
      "source": [
        "8. Write a program to handle a file opening error using exception handling."
      ],
      "metadata": {
        "id": "RpQXCGdPCGA4"
      }
    },
    {
      "cell_type": "code",
      "source": [
        "try:\n",
        "    with open(\"nofile.txt\", \"r\") as file:\n",
        "        print(file.read())\n",
        "except IOError:\n",
        "    print(\"An error occurred while trying to open the file.\")"
      ],
      "metadata": {
        "colab": {
          "base_uri": "https://localhost:8080/"
        },
        "id": "nF3vdqqvCJjy",
        "outputId": "d609df9f-1dda-4075-a0e6-ca09f834b06d"
      },
      "execution_count": 8,
      "outputs": [
        {
          "output_type": "stream",
          "name": "stdout",
          "text": [
            "An error occurred while trying to open the file.\n"
          ]
        }
      ]
    },
    {
      "cell_type": "markdown",
      "source": [
        "9. How can you read a file line by line and store its content in a list in Python?"
      ],
      "metadata": {
        "id": "_38am-5jCKxF"
      }
    },
    {
      "cell_type": "code",
      "source": [
        "with open(\"sample.txt\", \"r\") as file:\n",
        "    lines = file.readlines()\n",
        "\n",
        "print(lines)"
      ],
      "metadata": {
        "colab": {
          "base_uri": "https://localhost:8080/"
        },
        "id": "BHkvdRJmCNV6",
        "outputId": "46ec3426-61eb-46c0-9fd1-2b2bc313257e"
      },
      "execution_count": 9,
      "outputs": [
        {
          "output_type": "stream",
          "name": "stdout",
          "text": [
            "['Hello, this is a string written to a file using Python.']\n"
          ]
        }
      ]
    },
    {
      "cell_type": "markdown",
      "source": [
        "10. How can you append data to an existing file in Python?"
      ],
      "metadata": {
        "id": "rrEBPkxCCNzP"
      }
    },
    {
      "cell_type": "code",
      "source": [
        "with open(\"sample.txt\", \"a\") as file:\n",
        "    file.write(\"\\nThis line is appended to the file.\")"
      ],
      "metadata": {
        "id": "zzf3oQw8CSUS"
      },
      "execution_count": 10,
      "outputs": []
    },
    {
      "cell_type": "markdown",
      "source": [
        "11. Write a Python program that uses a try-except block to handle an error when attempting to access a dictionary key that doesn’t exist."
      ],
      "metadata": {
        "id": "n585Kv1TCSte"
      }
    },
    {
      "cell_type": "code",
      "source": [
        "my_dict = {\"name\": \"Alice\"}\n",
        "\n",
        "try:\n",
        "    print(my_dict[\"age\"])\n",
        "except KeyError:\n",
        "    print(\"The key you are trying to access does not exist in the dictionary.\")"
      ],
      "metadata": {
        "colab": {
          "base_uri": "https://localhost:8080/"
        },
        "id": "00OMolRlCWCX",
        "outputId": "e1ea5a63-323c-4fd1-ffb1-4ff58d28325c"
      },
      "execution_count": 11,
      "outputs": [
        {
          "output_type": "stream",
          "name": "stdout",
          "text": [
            "The key you are trying to access does not exist in the dictionary.\n"
          ]
        }
      ]
    },
    {
      "cell_type": "markdown",
      "source": [
        "12. Write a program that demonstrates using multiple except blocks to handle different types of exceptions."
      ],
      "metadata": {
        "id": "I-8rkJJrCWTI"
      }
    },
    {
      "cell_type": "code",
      "source": [
        "try:\n",
        "    a = 10 / 0\n",
        "except ZeroDivisionError:\n",
        "    print(\"Caught division by zero.\")\n",
        "except ValueError:\n",
        "    print(\"Caught value error.\")\n",
        "except Exception as e:\n",
        "    print(\"An unexpected error occurred:\", e)"
      ],
      "metadata": {
        "colab": {
          "base_uri": "https://localhost:8080/"
        },
        "id": "pJ8W3ls-CZI4",
        "outputId": "8666a8df-d095-49a7-e707-33756333a998"
      },
      "execution_count": 12,
      "outputs": [
        {
          "output_type": "stream",
          "name": "stdout",
          "text": [
            "Caught division by zero.\n"
          ]
        }
      ]
    },
    {
      "cell_type": "markdown",
      "source": [
        "13. How would you check if a file exists before attempting to read it in Python?"
      ],
      "metadata": {
        "id": "tGLGnKVkCZaY"
      }
    },
    {
      "cell_type": "code",
      "source": [
        "import os\n",
        "\n",
        "if os.path.exists(\"sample.txt\"):\n",
        "    with open(\"sample.txt\", \"r\") as file:\n",
        "        print(file.read())\n",
        "else:\n",
        "    print(\"The file does not exist.\")"
      ],
      "metadata": {
        "colab": {
          "base_uri": "https://localhost:8080/"
        },
        "id": "BnStj85lCcgu",
        "outputId": "42e65efd-e60d-479e-a354-6066c107a9ed"
      },
      "execution_count": 13,
      "outputs": [
        {
          "output_type": "stream",
          "name": "stdout",
          "text": [
            "Hello, this is a string written to a file using Python.\n",
            "This line is appended to the file.\n"
          ]
        }
      ]
    },
    {
      "cell_type": "markdown",
      "source": [
        "14. Write a program that uses the logging module to log both informational and error messages."
      ],
      "metadata": {
        "id": "f6c_rDNHCcyn"
      }
    },
    {
      "cell_type": "code",
      "source": [
        "import logging\n",
        "\n",
        "logging.basicConfig(filename=\"logfile.txt\", level=logging.INFO)\n",
        "\n",
        "logging.info(\"Program started successfully.\")\n",
        "try:\n",
        "    x = 5 / 0\n",
        "except ZeroDivisionError as e:\n",
        "    logging.error(\"Error occurred: %s\", e)"
      ],
      "metadata": {
        "colab": {
          "base_uri": "https://localhost:8080/"
        },
        "id": "LA5Y5PSdCgn4",
        "outputId": "6b807351-3af0-4cf4-b580-12a4c26e45b5"
      },
      "execution_count": 14,
      "outputs": [
        {
          "output_type": "stream",
          "name": "stderr",
          "text": [
            "ERROR:root:Error occurred: division by zero\n"
          ]
        }
      ]
    },
    {
      "cell_type": "markdown",
      "source": [
        "15. Write a Python program that prints the content of a file and handles the case when the file is empty."
      ],
      "metadata": {
        "id": "AtnI3ALvChJd"
      }
    },
    {
      "cell_type": "code",
      "source": [
        "with open(\"sample.txt\", \"r\") as file:\n",
        "    content = file.read()\n",
        "    if content:\n",
        "        print(content)\n",
        "    else:\n",
        "        print(\"The file is empty.\")"
      ],
      "metadata": {
        "colab": {
          "base_uri": "https://localhost:8080/"
        },
        "id": "MFcfxOj-Ck5p",
        "outputId": "10008b99-9f29-4c6d-bfc6-bde5c7fc6e2a"
      },
      "execution_count": 15,
      "outputs": [
        {
          "output_type": "stream",
          "name": "stdout",
          "text": [
            "Hello, this is a string written to a file using Python.\n",
            "This line is appended to the file.\n"
          ]
        }
      ]
    },
    {
      "cell_type": "markdown",
      "source": [
        "16. Demonstrate how to use memory profiling to check the memory usage of a small program."
      ],
      "metadata": {
        "id": "JbfJrX47ClUb"
      }
    },
    {
      "cell_type": "code",
      "source": [
        "pip install memory_profiler"
      ],
      "metadata": {
        "colab": {
          "base_uri": "https://localhost:8080/"
        },
        "id": "Y8v6JPKcCtIV",
        "outputId": "d9d6a0c3-15ee-41a7-e8a8-5af4362d9f3d"
      },
      "execution_count": 17,
      "outputs": [
        {
          "output_type": "stream",
          "name": "stdout",
          "text": [
            "Collecting memory_profiler\n",
            "  Downloading memory_profiler-0.61.0-py3-none-any.whl.metadata (20 kB)\n",
            "Requirement already satisfied: psutil in /usr/local/lib/python3.11/dist-packages (from memory_profiler) (5.9.5)\n",
            "Downloading memory_profiler-0.61.0-py3-none-any.whl (31 kB)\n",
            "Installing collected packages: memory_profiler\n",
            "Successfully installed memory_profiler-0.61.0\n"
          ]
        }
      ]
    },
    {
      "cell_type": "code",
      "source": [
        "from memory_profiler import profile\n",
        "\n",
        "@profile\n",
        "def allocate_list():\n",
        "    a = [i for i in range(10000)]\n",
        "\n",
        "allocate_list()"
      ],
      "metadata": {
        "colab": {
          "base_uri": "https://localhost:8080/"
        },
        "id": "MxCVqZZfEU6B",
        "outputId": "13045426-819d-4e6e-f7b7-74a0e1023ea8"
      },
      "execution_count": 18,
      "outputs": [
        {
          "output_type": "stream",
          "name": "stderr",
          "text": [
            "\n",
            "PYDEV DEBUGGER WARNING:\n",
            "sys.settrace() should not be used when the debugger is being used.\n",
            "This may cause the debugger to stop working correctly.\n",
            "If this is needed, please check: \n",
            "http://pydev.blogspot.com/2007/06/why-cant-pydev-debugger-work-with.html\n",
            "to see how to restore the debug tracing back correctly.\n",
            "Call Location:\n",
            "  File \"/usr/local/lib/python3.11/dist-packages/memory_profiler.py\", line 847, in enable\n",
            "    sys.settrace(self.trace_memory_usage)\n",
            "\n",
            "\n",
            "PYDEV DEBUGGER WARNING:\n",
            "sys.settrace() should not be used when the debugger is being used.\n",
            "This may cause the debugger to stop working correctly.\n",
            "If this is needed, please check: \n",
            "http://pydev.blogspot.com/2007/06/why-cant-pydev-debugger-work-with.html\n",
            "to see how to restore the debug tracing back correctly.\n",
            "Call Location:\n",
            "  File \"/usr/local/lib/python3.11/dist-packages/memory_profiler.py\", line 850, in disable\n",
            "    sys.settrace(self._original_trace_function)\n",
            "\n"
          ]
        },
        {
          "output_type": "stream",
          "name": "stdout",
          "text": [
            "ERROR: Could not find file <ipython-input-18-5b92e4595f1e>\n",
            "NOTE: %mprun can only be used on functions defined in physical files, and not in the IPython environment.\n"
          ]
        }
      ]
    },
    {
      "cell_type": "markdown",
      "source": [
        "17. Write a Python program to create and write a list of numbers to a file, one number per line."
      ],
      "metadata": {
        "id": "AsAP5fsuCtj4"
      }
    },
    {
      "cell_type": "code",
      "source": [
        "numbers = [1, 2, 3, 4, 5]\n",
        "\n",
        "with open(\"numbers.txt\", \"w\") as file:\n",
        "    for number in numbers:\n",
        "        file.write(f\"{number}\\n\")"
      ],
      "metadata": {
        "id": "8Mf2B6dBCyb3"
      },
      "execution_count": 20,
      "outputs": []
    },
    {
      "cell_type": "markdown",
      "source": [
        "18. How would you implement a basic logging setup that logs to a file with rotation after 1MB?"
      ],
      "metadata": {
        "id": "dduyQ_MaC12K"
      }
    },
    {
      "cell_type": "code",
      "source": [
        "import logging\n",
        "from logging.handlers import RotatingFileHandler\n",
        "\n",
        "handler = RotatingFileHandler(\"rotate.log\", maxBytes=1024*1024, backupCount=2)\n",
        "logger = logging.getLogger()\n",
        "logger.setLevel(logging.INFO)\n",
        "logger.addHandler(handler)\n",
        "\n",
        "logger.info(\"This log will rotate once it reaches 1MB.\")"
      ],
      "metadata": {
        "colab": {
          "base_uri": "https://localhost:8080/"
        },
        "id": "Zhw4HAcWC28O",
        "outputId": "d2bd0b5e-ceea-40eb-868b-708d195bd349"
      },
      "execution_count": 21,
      "outputs": [
        {
          "output_type": "stream",
          "name": "stderr",
          "text": [
            "INFO:root:This log will rotate once it reaches 1MB.\n"
          ]
        }
      ]
    },
    {
      "cell_type": "markdown",
      "source": [
        "19. Write a program that handles both IndexError and KeyError using a try-except block."
      ],
      "metadata": {
        "id": "f_MvLJMpC3bZ"
      }
    },
    {
      "cell_type": "code",
      "source": [
        "try:\n",
        "    my_list = [1, 2, 3]\n",
        "    print(my_list[5])\n",
        "\n",
        "    my_dict = {\"a\": 1}\n",
        "    print(my_dict[\"b\"])\n",
        "except IndexError:\n",
        "    print(\"IndexError occurred: List index out of range.\")\n",
        "except KeyError:\n",
        "    print(\"KeyError occurred: Dictionary key not found.\")"
      ],
      "metadata": {
        "colab": {
          "base_uri": "https://localhost:8080/"
        },
        "id": "_xcmTjTQC6s2",
        "outputId": "3cd0d1c3-55b0-4420-ad1f-d686c4ea9686"
      },
      "execution_count": 22,
      "outputs": [
        {
          "output_type": "stream",
          "name": "stdout",
          "text": [
            "IndexError occurred: List index out of range.\n"
          ]
        }
      ]
    },
    {
      "cell_type": "markdown",
      "source": [
        "20. How would you open a file and read its contents using a context manager in Python?"
      ],
      "metadata": {
        "id": "r3oXGah_C7Di"
      }
    },
    {
      "cell_type": "code",
      "source": [
        "with open(\"sample.txt\", \"r\") as file:\n",
        "    content = file.read()\n",
        "    print(content)"
      ],
      "metadata": {
        "colab": {
          "base_uri": "https://localhost:8080/"
        },
        "id": "y6qC_KM2DBJU",
        "outputId": "ea1602c0-f7b6-4f72-b15b-10eeac7231b8"
      },
      "execution_count": 23,
      "outputs": [
        {
          "output_type": "stream",
          "name": "stdout",
          "text": [
            "Hello, this is a string written to a file using Python.\n",
            "This line is appended to the file.\n"
          ]
        }
      ]
    },
    {
      "cell_type": "markdown",
      "source": [
        "21. Write a Python program that reads a file and prints the number of occurrences of a specific word."
      ],
      "metadata": {
        "id": "EaBZjsZRDBaH"
      }
    },
    {
      "cell_type": "code",
      "source": [
        "word = \"Python\"\n",
        "\n",
        "with open(\"sample.txt\", \"r\") as file:\n",
        "    content = file.read()\n",
        "\n",
        "count = content.count(word)\n",
        "print(f\"The word '{word}' occurs {count} times.\")"
      ],
      "metadata": {
        "colab": {
          "base_uri": "https://localhost:8080/"
        },
        "id": "baeiPxVODHyd",
        "outputId": "1f75b425-78a7-4121-95dd-6d1d2105e97d"
      },
      "execution_count": 24,
      "outputs": [
        {
          "output_type": "stream",
          "name": "stdout",
          "text": [
            "The word 'Python' occurs 1 times.\n"
          ]
        }
      ]
    },
    {
      "cell_type": "markdown",
      "source": [
        "22. How can you check if a file is empty before attempting to read its contents?"
      ],
      "metadata": {
        "id": "Gtd-r3vsDICU"
      }
    },
    {
      "cell_type": "code",
      "source": [
        "import os\n",
        "\n",
        "if os.path.getsize(\"sample.txt\") == 0:\n",
        "    print(\"The file is empty.\")\n",
        "else:\n",
        "    with open(\"sample.txt\", \"r\") as file:\n",
        "        print(file.read())"
      ],
      "metadata": {
        "colab": {
          "base_uri": "https://localhost:8080/"
        },
        "id": "Pzek7_tTDK3s",
        "outputId": "aed4e816-20de-4e48-d848-fd1e9f898ac5"
      },
      "execution_count": 25,
      "outputs": [
        {
          "output_type": "stream",
          "name": "stdout",
          "text": [
            "Hello, this is a string written to a file using Python.\n",
            "This line is appended to the file.\n"
          ]
        }
      ]
    },
    {
      "cell_type": "markdown",
      "source": [
        "23. Write a Python program that writes to a log file when an error occurs during file handling."
      ],
      "metadata": {
        "id": "XXS_N0UZDLTz"
      }
    },
    {
      "cell_type": "code",
      "source": [
        "import logging\n",
        "\n",
        "logging.basicConfig(filename=\"file_error.log\", level=logging.ERROR)\n",
        "\n",
        "try:\n",
        "    with open(\"unknownfile.txt\", \"r\") as file:\n",
        "        print(file.read())\n",
        "except Exception as e:\n",
        "    logging.error(\"An error occurred while reading the file: %s\", e)"
      ],
      "metadata": {
        "colab": {
          "base_uri": "https://localhost:8080/"
        },
        "id": "Vi2PMFb6DOmU",
        "outputId": "068b017f-bf66-43e3-cf2c-cb5483e5047f"
      },
      "execution_count": 26,
      "outputs": [
        {
          "output_type": "stream",
          "name": "stderr",
          "text": [
            "ERROR:root:An error occurred while reading the file: [Errno 2] No such file or directory: 'unknownfile.txt'\n"
          ]
        }
      ]
    }
  ]
}